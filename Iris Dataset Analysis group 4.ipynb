{
 "cells": [
  {
   "cell_type": "code",
   "execution_count": 26,
   "id": "2dd8d78e-527e-48fc-b603-465d82abcc22",
   "metadata": {},
   "outputs": [],
   "source": [
    "# Jupyter Notebook: Iris Dataset Analysis\n",
    "\n",
    "# Cell 1: Import necessary Python libraries\n",
    "import pandas as pd\n",
    "import numpy as np\n",
    "import matplotlib.pyplot as plt\n",
    "import seaborn as sns\n",
    "from sklearn.preprocessing import StandardScaler\n",
    "from sklearn.model_selection import train_test_split\n",
    "from sklearn.neighbors import KNeighborsClassifier\n",
    "from sklearn.metrics import accuracy_score, precision_score, recall_score, f1_score, confusion_matrix, classification_report\n",
    "# Descriptions:\n",
    "# - pandas: Provides data structures and data analysis tools.\n",
    "# - numpy: Supports large arrays and matrices, along with mathematical functions.\n",
    "# - matplotlib: Used for creating static, animated, and interactive visualizations.\n",
    "# - seaborn: Provides a high-level interface for drawing attractive statistical graphics.\n",
    "# - sklearn.preprocessing.StandardScaler: Used for standardizing features.\n"
   ]
  },
  {
   "cell_type": "code",
   "execution_count": 27,
   "id": "5c36876f-5b5a-4391-a5fb-f879214a57e7",
   "metadata": {},
   "outputs": [
    {
     "data": {
      "text/html": [
       "<div>\n",
       "<style scoped>\n",
       "    .dataframe tbody tr th:only-of-type {\n",
       "        vertical-align: middle;\n",
       "    }\n",
       "\n",
       "    .dataframe tbody tr th {\n",
       "        vertical-align: top;\n",
       "    }\n",
       "\n",
       "    .dataframe thead th {\n",
       "        text-align: right;\n",
       "    }\n",
       "</style>\n",
       "<table border=\"1\" class=\"dataframe\">\n",
       "  <thead>\n",
       "    <tr style=\"text-align: right;\">\n",
       "      <th></th>\n",
       "      <th>Id</th>\n",
       "      <th>SepalLengthCm</th>\n",
       "      <th>SepalWidthCm</th>\n",
       "      <th>PetalLengthCm</th>\n",
       "      <th>PetalWidthCm</th>\n",
       "      <th>Species</th>\n",
       "    </tr>\n",
       "  </thead>\n",
       "  <tbody>\n",
       "    <tr>\n",
       "      <th>0</th>\n",
       "      <td>1</td>\n",
       "      <td>5.1</td>\n",
       "      <td>3.5</td>\n",
       "      <td>1.4</td>\n",
       "      <td>0.2</td>\n",
       "      <td>Iris-setosa</td>\n",
       "    </tr>\n",
       "    <tr>\n",
       "      <th>1</th>\n",
       "      <td>2</td>\n",
       "      <td>4.9</td>\n",
       "      <td>3.0</td>\n",
       "      <td>1.4</td>\n",
       "      <td>0.2</td>\n",
       "      <td>Iris-setosa</td>\n",
       "    </tr>\n",
       "    <tr>\n",
       "      <th>2</th>\n",
       "      <td>3</td>\n",
       "      <td>4.7</td>\n",
       "      <td>3.2</td>\n",
       "      <td>1.3</td>\n",
       "      <td>0.2</td>\n",
       "      <td>Iris-setosa</td>\n",
       "    </tr>\n",
       "    <tr>\n",
       "      <th>3</th>\n",
       "      <td>4</td>\n",
       "      <td>4.6</td>\n",
       "      <td>3.1</td>\n",
       "      <td>1.5</td>\n",
       "      <td>0.2</td>\n",
       "      <td>Iris-setosa</td>\n",
       "    </tr>\n",
       "    <tr>\n",
       "      <th>4</th>\n",
       "      <td>5</td>\n",
       "      <td>5.0</td>\n",
       "      <td>3.6</td>\n",
       "      <td>1.4</td>\n",
       "      <td>0.2</td>\n",
       "      <td>Iris-setosa</td>\n",
       "    </tr>\n",
       "    <tr>\n",
       "      <th>...</th>\n",
       "      <td>...</td>\n",
       "      <td>...</td>\n",
       "      <td>...</td>\n",
       "      <td>...</td>\n",
       "      <td>...</td>\n",
       "      <td>...</td>\n",
       "    </tr>\n",
       "    <tr>\n",
       "      <th>145</th>\n",
       "      <td>146</td>\n",
       "      <td>6.7</td>\n",
       "      <td>3.0</td>\n",
       "      <td>5.2</td>\n",
       "      <td>2.3</td>\n",
       "      <td>Iris-virginica</td>\n",
       "    </tr>\n",
       "    <tr>\n",
       "      <th>146</th>\n",
       "      <td>147</td>\n",
       "      <td>6.3</td>\n",
       "      <td>2.5</td>\n",
       "      <td>5.0</td>\n",
       "      <td>1.9</td>\n",
       "      <td>Iris-virginica</td>\n",
       "    </tr>\n",
       "    <tr>\n",
       "      <th>147</th>\n",
       "      <td>148</td>\n",
       "      <td>6.5</td>\n",
       "      <td>3.0</td>\n",
       "      <td>5.2</td>\n",
       "      <td>2.0</td>\n",
       "      <td>Iris-virginica</td>\n",
       "    </tr>\n",
       "    <tr>\n",
       "      <th>148</th>\n",
       "      <td>149</td>\n",
       "      <td>6.2</td>\n",
       "      <td>3.4</td>\n",
       "      <td>5.4</td>\n",
       "      <td>2.3</td>\n",
       "      <td>Iris-virginica</td>\n",
       "    </tr>\n",
       "    <tr>\n",
       "      <th>149</th>\n",
       "      <td>150</td>\n",
       "      <td>5.9</td>\n",
       "      <td>3.0</td>\n",
       "      <td>5.1</td>\n",
       "      <td>1.8</td>\n",
       "      <td>Iris-virginica</td>\n",
       "    </tr>\n",
       "  </tbody>\n",
       "</table>\n",
       "<p>150 rows × 6 columns</p>\n",
       "</div>"
      ],
      "text/plain": [
       "      Id  SepalLengthCm  SepalWidthCm  PetalLengthCm  PetalWidthCm  \\\n",
       "0      1            5.1           3.5            1.4           0.2   \n",
       "1      2            4.9           3.0            1.4           0.2   \n",
       "2      3            4.7           3.2            1.3           0.2   \n",
       "3      4            4.6           3.1            1.5           0.2   \n",
       "4      5            5.0           3.6            1.4           0.2   \n",
       "..   ...            ...           ...            ...           ...   \n",
       "145  146            6.7           3.0            5.2           2.3   \n",
       "146  147            6.3           2.5            5.0           1.9   \n",
       "147  148            6.5           3.0            5.2           2.0   \n",
       "148  149            6.2           3.4            5.4           2.3   \n",
       "149  150            5.9           3.0            5.1           1.8   \n",
       "\n",
       "            Species  \n",
       "0       Iris-setosa  \n",
       "1       Iris-setosa  \n",
       "2       Iris-setosa  \n",
       "3       Iris-setosa  \n",
       "4       Iris-setosa  \n",
       "..              ...  \n",
       "145  Iris-virginica  \n",
       "146  Iris-virginica  \n",
       "147  Iris-virginica  \n",
       "148  Iris-virginica  \n",
       "149  Iris-virginica  \n",
       "\n",
       "[150 rows x 6 columns]"
      ]
     },
     "execution_count": 27,
     "metadata": {},
     "output_type": "execute_result"
    }
   ],
   "source": [
    "\n",
    "# Cell 2: Load the dataset into a pandas DataFrame\n",
    "df=pd.read_csv('iris.csv')\n",
    "df"
   ]
  },
  {
   "cell_type": "markdown",
   "id": "205932d2-d521-4689-9dc2-4cd7df436926",
   "metadata": {},
   "source": [
    "(a) Examining a few rows "
   ]
  },
  {
   "cell_type": "code",
   "execution_count": 28,
   "id": "f331e188-5cd5-47fe-8573-fb3c922c960e",
   "metadata": {},
   "outputs": [
    {
     "name": "stdout",
     "output_type": "stream",
     "text": [
      "First few rows of the dataset:\n",
      "   Id  SepalLengthCm  SepalWidthCm  PetalLengthCm  PetalWidthCm      Species\n",
      "0   1            5.1           3.5            1.4           0.2  Iris-setosa\n",
      "1   2            4.9           3.0            1.4           0.2  Iris-setosa\n",
      "2   3            4.7           3.2            1.3           0.2  Iris-setosa\n",
      "3   4            4.6           3.1            1.5           0.2  Iris-setosa\n"
     ]
    }
   ],
   "source": [
    "print(\"First few rows of the dataset:\")\n",
    "print(df.head(4))"
   ]
  },
  {
   "cell_type": "markdown",
   "id": "57da348c-311e-471b-a592-d887926ee24b",
   "metadata": {},
   "source": [
    "The structure of the dataset"
   ]
  },
  {
   "cell_type": "code",
   "execution_count": 29,
   "id": "60f5e8b9-7ee6-4bd8-b37a-29604fd7e783",
   "metadata": {},
   "outputs": [
    {
     "name": "stdout",
     "output_type": "stream",
     "text": [
      "\n",
      "Structure of the dataset:\n",
      "<class 'pandas.core.frame.DataFrame'>\n",
      "RangeIndex: 150 entries, 0 to 149\n",
      "Data columns (total 6 columns):\n",
      " #   Column         Non-Null Count  Dtype  \n",
      "---  ------         --------------  -----  \n",
      " 0   Id             150 non-null    int64  \n",
      " 1   SepalLengthCm  150 non-null    float64\n",
      " 2   SepalWidthCm   150 non-null    float64\n",
      " 3   PetalLengthCm  150 non-null    float64\n",
      " 4   PetalWidthCm   150 non-null    float64\n",
      " 5   Species        150 non-null    object \n",
      "dtypes: float64(4), int64(1), object(1)\n",
      "memory usage: 7.2+ KB\n",
      "None\n"
     ]
    }
   ],
   "source": [
    "print(\"\\nStructure of the dataset:\")\n",
    "print(df.info())"
   ]
  },
  {
   "cell_type": "code",
   "execution_count": null,
   "id": "3bcc3be2-d53c-4efd-9073-452c2701cc48",
   "metadata": {},
   "outputs": [],
   "source": [
    "(b) Displaying the summary statistics,"
   ]
  },
  {
   "cell_type": "code",
   "execution_count": 30,
   "id": "2ec91ddb-81a4-47c9-87f6-492094ee1b07",
   "metadata": {},
   "outputs": [
    {
     "name": "stdout",
     "output_type": "stream",
     "text": [
      "\n",
      "Summary statistics of the dataset:\n",
      "               Id  SepalLengthCm  SepalWidthCm  PetalLengthCm  PetalWidthCm\n",
      "count  150.000000     150.000000    150.000000     150.000000    150.000000\n",
      "mean    75.500000       5.843333      3.054000       3.758667      1.198667\n",
      "std     43.445368       0.828066      0.433594       1.764420      0.763161\n",
      "min      1.000000       4.300000      2.000000       1.000000      0.100000\n",
      "25%     38.250000       5.100000      2.800000       1.600000      0.300000\n",
      "50%     75.500000       5.800000      3.000000       4.350000      1.300000\n",
      "75%    112.750000       6.400000      3.300000       5.100000      1.800000\n",
      "max    150.000000       7.900000      4.400000       6.900000      2.500000\n"
     ]
    }
   ],
   "source": [
    "print(\"\\nSummary statistics of the dataset:\")\n",
    "print(df.describe())"
   ]
  },
  {
   "cell_type": "markdown",
   "id": "27d0d24f-87e2-4dc7-83f7-6193472ac517",
   "metadata": {},
   "source": [
    "(c) Determining the column names and the data types of the variables"
   ]
  },
  {
   "cell_type": "code",
   "execution_count": 31,
   "id": "14402220-1a05-42f3-b68b-07a9c07f6e18",
   "metadata": {},
   "outputs": [
    {
     "name": "stdout",
     "output_type": "stream",
     "text": [
      "\n",
      "Column names and data types:\n",
      "Id                 int64\n",
      "SepalLengthCm    float64\n",
      "SepalWidthCm     float64\n",
      "PetalLengthCm    float64\n",
      "PetalWidthCm     float64\n",
      "Species           object\n",
      "dtype: object\n"
     ]
    }
   ],
   "source": [
    "print(\"\\nColumn names and data types:\")\n",
    "print(df.dtypes)"
   ]
  },
  {
   "cell_type": "markdown",
   "id": "04d92b01-c2e8-41d4-880d-7e2c3f7c2823",
   "metadata": {},
   "source": [
    "(4) Check and deal with the missing values in the dataset."
   ]
  },
  {
   "cell_type": "code",
   "execution_count": 32,
   "id": "a91b9157-67f7-45fc-9d78-9e9c37f4a210",
   "metadata": {},
   "outputs": [
    {
     "name": "stdout",
     "output_type": "stream",
     "text": [
      "\n",
      "Checking for missing values:\n",
      "Id               0\n",
      "SepalLengthCm    0\n",
      "SepalWidthCm     0\n",
      "PetalLengthCm    0\n",
      "PetalWidthCm     0\n",
      "Species          0\n",
      "dtype: int64\n"
     ]
    }
   ],
   "source": [
    "print(\"\\nChecking for missing values:\")\n",
    "print(df.isnull().sum())"
   ]
  },
  {
   "cell_type": "markdown",
   "id": "f19b3868-9f4e-40e8-a3ae-0a73d1a3dfe6",
   "metadata": {},
   "source": [
    "(5) Checking and handling outliers. Identify and decide on a method to handle \n",
    "outliers (discuss the options)."
   ]
  },
  {
   "cell_type": "code",
   "execution_count": 33,
   "id": "74f8c581-9c9f-466b-8a9f-462c2751ae64",
   "metadata": {},
   "outputs": [
    {
     "name": "stdout",
     "output_type": "stream",
     "text": [
      "\n",
      "Boxplot analysis for outliers:\n"
     ]
    },
    {
     "data": {
      "image/png": "[encoded data removed]",
      "text/plain": [
       "<Figure size 1000x600 with 1 Axes>"
      ]
     },
     "metadata": {},
     "output_type": "display_data"
    }
   ],
   "source": [
    "# Identify outliers using boxplots\n",
    "print(\"\\nBoxplot analysis for outliers:\")\n",
    "plt.figure(figsize=(10, 6))\n",
    "sns.boxplot(data=df[['SepalLengthCm', 'SepalWidthCm', 'PetalLengthCm', 'PetalWidthCm']])\n",
    "plt.title('Boxplot of Sepal and Petal Measurements')\n",
    "plt.show()"
   ]
  },
  {
   "cell_type": "code",
   "execution_count": 34,
   "id": "e5a46b27-0ef5-4875-987e-298ece49523c",
   "metadata": {},
   "outputs": [],
   "source": [
    "# Handling outliers by using IQR method\n",
    "Q1 = df[['SepalLengthCm', 'SepalWidthCm', 'PetalLengthCm', 'PetalWidthCm']].quantile(0.25)\n",
    "Q3 = df[['SepalLengthCm', 'SepalWidthCm', 'PetalLengthCm', 'PetalWidthCm']].quantile(0.75)\n",
    "IQR = Q3 - Q1\n"
   ]
  },
  {
   "cell_type": "code",
   "execution_count": 35,
   "id": "97a5bd55-c99f-4fdf-97ba-f30ec1888e9d",
   "metadata": {},
   "outputs": [],
   "source": [
    "# Define bounds for outliers\n",
    "lower_bound = Q1 - 1.5 * IQR\n",
    "upper_bound = Q3 + 1.5 * IQR\n"
   ]
  },
  {
   "cell_type": "code",
   "execution_count": 36,
   "id": "5c982ea7-4852-450b-9be0-41eb26fdcadc",
   "metadata": {},
   "outputs": [
    {
     "name": "stdout",
     "output_type": "stream",
     "text": [
      "\n",
      "Dataset shape after removing outliers:\n",
      "(146, 6)\n"
     ]
    }
   ],
   "source": [
    "# Remove outliers\n",
    "filtered_df = df[~((df[['SepalLengthCm', 'SepalWidthCm', 'PetalLengthCm', 'PetalWidthCm']] < lower_bound) | (df[['SepalLengthCm', 'SepalWidthCm', 'PetalLengthCm', 'PetalWidthCm']] > upper_bound)).any(axis=1)]\n",
    "print(\"\\nDataset shape after removing outliers:\")\n",
    "print(filtered_df.shape)\n"
   ]
  },
  {
   "cell_type": "markdown",
   "id": "56ad7c2a-7cd3-41f8-a125-4493ea38d9d8",
   "metadata": {},
   "source": [
    "(6) Select the most relevant features and apply the necessary feature \n",
    "transformations. Discuss the available techniques and justify the choice of a \n",
    "technique"
   ]
  },
  {
   "cell_type": "code",
   "execution_count": 37,
   "id": "9522b7c1-6509-410c-aeb5-967e19d34566",
   "metadata": {},
   "outputs": [
    {
     "name": "stdout",
     "output_type": "stream",
     "text": [
      "\n",
      "Scaled features:\n",
      "[[-0.9105154   1.1757891  -1.3748782  -1.34589856]\n",
      " [-1.15112218 -0.09392398 -1.3748782  -1.34589856]\n",
      " [-1.39172896  0.41396125 -1.43198551 -1.34589856]\n",
      " [-1.51203236  0.16001863 -1.31777088 -1.34589856]\n",
      " [-1.03081879  1.42973171 -1.3748782  -1.34589856]]\n"
     ]
    }
   ],
   "source": [
    "selected_features = filtered_df[['SepalLengthCm', 'SepalWidthCm', 'PetalLengthCm', 'PetalWidthCm']]\n",
    "\n",
    "# Standardize features\n",
    "scaler = StandardScaler()\n",
    "scaled_features = scaler.fit_transform(selected_features)\n",
    "print(\"\\nScaled features:\")\n",
    "print(scaled_features[:5])\n",
    "\n"
   ]
  },
  {
   "cell_type": "markdown",
   "id": "e7bdb5a7-ff7b-4070-be8c-4595fe80a7e0",
   "metadata": {},
   "source": [
    "# Discuss techniques:\n",
    " - StandardScaler: Centers the data and scales to unit variance.\n",
    " - MinMaxScaler: Scales the data to a fixed range (e.g., 0 to 1).\n",
    " - RobustScaler: Scales features using statistics that are robust to outliers.\n",
    "\n",
    "**Justification for StandardScaler**: It standardizes features by removing the mean \n",
    "and scaling to unit variance,which is important for algorithms that assume the data is normally distributed."
   ]
  },
  {
   "cell_type": "markdown",
   "id": "2d2fd19d-08db-41ec-a93c-484c2e08f0a5",
   "metadata": {},
   "source": [
    "(7) Build and train a KNN model. Choose (with justification) an appropriate value for K."
   ]
  },
  {
   "cell_type": "code",
   "execution_count": 49,
   "id": "f6319614-ba7d-41a3-823f-e2667d510403",
   "metadata": {},
   "outputs": [],
   "source": [
    "# Split the dataset into training and testing sets\n",
    "X = scaled_features\n",
    "y = filtered_df['Species']\n",
    "X_train, X_test, y_train, y_test = train_test_split(X, y, test_size=0.2, random_state=42)\n",
    "\n",
    "# Building and training a K-Nearest Neighbors (KNN) model\n",
    "# Choosing K using the elbow method\n",
    "error_rate = []\n",
    "for k in range(1, 21):\n",
    "    knn = KNeighborsClassifier(n_neighbors=k)\n",
    "    knn.fit(X_train, y_train)\n",
    "    pred_k = knn.predict(X_test)\n",
    "    error_rate.append(np.mean(pred_k != y_test))\n",
    "\n"
   ]
  },
  {
   "cell_type": "code",
   "execution_count": 40,
   "id": "6797a996-2583-46e8-8902-3162cfb92b2d",
   "metadata": {},
   "outputs": [
    {
     "data": {
      "image/png": "[encoded data removed]",
      "text/plain": [
       "<Figure size 1000x600 with 1 Axes>"
      ]
     },
     "metadata": {},
     "output_type": "display_data"
    }
   ],
   "source": [
    "\n",
    "# Plotting the error rate to find the optimal K\n",
    "plt.figure(figsize=(10, 6))\n",
    "plt.plot(range(1, 21), error_rate, marker='o', linestyle='dashed', color='blue')\n",
    "plt.title('Error Rate vs. K Value')\n",
    "plt.xlabel('K')\n",
    "plt.ylabel('Error Rate')\n",
    "plt.show()\n"
   ]
  },
  {
   "cell_type": "code",
   "execution_count": 41,
   "id": "8ef7e02a-7984-4bb5-9e59-5b585c3874c3",
   "metadata": {},
   "outputs": [
    {
     "name": "stdout",
     "output_type": "stream",
     "text": [
      "The optimal number of neighbors (K) is: 6\n"
     ]
    }
   ],
   "source": [
    "# Choosing K with the minimum error rate (from the plot)\n",
    "optimal_k = error_rate.index(min(error_rate)) + 1\n",
    "print(f\"The optimal number of neighbors (K) is: {optimal_k}\")\n"
   ]
  },
  {
   "cell_type": "code",
   "execution_count": 42,
   "id": "e84ec573-7d22-4714-9e54-b8d649b099b6",
   "metadata": {},
   "outputs": [
    {
     "data": {
      "text/html": [
       "<style>#sk-container-id-1 {color: black;background-color: white;}#sk-container-id-1 pre{padding: 0;}#sk-container-id-1 div.sk-toggleable {background-color: white;}#sk-container-id-1 label.sk-toggleable__label {cursor: pointer;display: block;width: 100%;margin-bottom: 0;padding: 0.3em;box-sizing: border-box;text-align: center;}#sk-container-id-1 label.sk-toggleable__label-arrow:before {content: \"▸\";float: left;margin-right: 0.25em;color: #696969;}#sk-container-id-1 label.sk-toggleable__label-arrow:hover:before {color: black;}#sk-container-id-1 div.sk-estimator:hover label.sk-toggleable__label-arrow:before {color: black;}#sk-container-id-1 div.sk-toggleable__content {max-height: 0;max-width: 0;overflow: hidden;text-align: left;background-color: #f0f8ff;}#sk-container-id-1 div.sk-toggleable__content pre {margin: 0.2em;color: black;border-radius: 0.25em;background-color: #f0f8ff;}#sk-container-id-1 input.sk-toggleable__control:checked~div.sk-toggleable__content {max-height: 200px;max-width: 100%;overflow: auto;}#sk-container-id-1 input.sk-toggleable__control:checked~label.sk-toggleable__label-arrow:before {content: \"▾\";}#sk-container-id-1 div.sk-estimator input.sk-toggleable__control:checked~label.sk-toggleable__label {background-color: #d4ebff;}#sk-container-id-1 div.sk-label input.sk-toggleable__control:checked~label.sk-toggleable__label {background-color: #d4ebff;}#sk-container-id-1 input.sk-hidden--visually {border: 0;clip: rect(1px 1px 1px 1px);clip: rect(1px, 1px, 1px, 1px);height: 1px;margin: -1px;overflow: hidden;padding: 0;position: absolute;width: 1px;}#sk-container-id-1 div.sk-estimator {font-family: monospace;background-color: #f0f8ff;border: 1px dotted black;border-radius: 0.25em;box-sizing: border-box;margin-bottom: 0.5em;}#sk-container-id-1 div.sk-estimator:hover {background-color: #d4ebff;}#sk-container-id-1 div.sk-parallel-item::after {content: \"\";width: 100%;border-bottom: 1px solid gray;flex-grow: 1;}#sk-container-id-1 div.sk-label:hover label.sk-toggleable__label {background-color: #d4ebff;}#sk-container-id-1 div.sk-serial::before {content: \"\";position: absolute;border-left: 1px solid gray;box-sizing: border-box;top: 0;bottom: 0;left: 50%;z-index: 0;}#sk-container-id-1 div.sk-serial {display: flex;flex-direction: column;align-items: center;background-color: white;padding-right: 0.2em;padding-left: 0.2em;position: relative;}#sk-container-id-1 div.sk-item {position: relative;z-index: 1;}#sk-container-id-1 div.sk-parallel {display: flex;align-items: stretch;justify-content: center;background-color: white;position: relative;}#sk-container-id-1 div.sk-item::before, #sk-container-id-1 div.sk-parallel-item::before {content: \"\";position: absolute;border-left: 1px solid gray;box-sizing: border-box;top: 0;bottom: 0;left: 50%;z-index: -1;}#sk-container-id-1 div.sk-parallel-item {display: flex;flex-direction: column;z-index: 1;position: relative;background-color: white;}#sk-container-id-1 div.sk-parallel-item:first-child::after {align-self: flex-end;width: 50%;}#sk-container-id-1 div.sk-parallel-item:last-child::after {align-self: flex-start;width: 50%;}#sk-container-id-1 div.sk-parallel-item:only-child::after {width: 0;}#sk-container-id-1 div.sk-dashed-wrapped {border: 1px dashed gray;margin: 0 0.4em 0.5em 0.4em;box-sizing: border-box;padding-bottom: 0.4em;background-color: white;}#sk-container-id-1 div.sk-label label {font-family: monospace;font-weight: bold;display: inline-block;line-height: 1.2em;}#sk-container-id-1 div.sk-label-container {text-align: center;}#sk-container-id-1 div.sk-container {/* jupyter's `normalize.less` sets `[hidden] { display: none; }` but bootstrap.min.css set `[hidden] { display: none !important; }` so we also need the `!important` here to be able to override the default hidden behavior on the sphinx rendered scikit-learn.org. See: https://github.com/scikit-learn/scikit-learn/issues/21755 */display: inline-block !important;position: relative;}#sk-container-id-1 div.sk-text-repr-fallback {display: none;}</style><div id=\"sk-container-id-1\" class=\"sk-top-container\"><div class=\"sk-text-repr-fallback\"><pre>KNeighborsClassifier(n_neighbors=6)</pre><b>In a Jupyter environment, please rerun this cell to show the HTML representation or trust the notebook. <br />On GitHub, the HTML representation is unable to render, please try loading this page with nbviewer.org.</b></div><div class=\"sk-container\" hidden><div class=\"sk-item\"><div class=\"sk-estimator sk-toggleable\"><input class=\"sk-toggleable__control sk-hidden--visually\" id=\"sk-estimator-id-1\" type=\"checkbox\" checked><label for=\"sk-estimator-id-1\" class=\"sk-toggleable__label sk-toggleable__label-arrow\">KNeighborsClassifier</label><div class=\"sk-toggleable__content\"><pre>KNeighborsClassifier(n_neighbors=6)</pre></div></div></div></div></div>"
      ],
      "text/plain": [
       "KNeighborsClassifier(n_neighbors=6)"
      ]
     },
     "execution_count": 42,
     "metadata": {},
     "output_type": "execute_result"
    }
   ],
   "source": [
    "# Train the KNN model with optimal K\n",
    "knn = KNeighborsClassifier(n_neighbors=optimal_k)\n",
    "knn.fit(X_train, y_train)\n"
   ]
  },
  {
   "cell_type": "markdown",
   "id": "c7b0d179-df18-416c-a8e8-00da0660e74f",
   "metadata": {},
   "source": [
    "(8) Use the trained model to make predictions on 5 data points in the testing set.\n"
   ]
  },
  {
   "cell_type": "code",
   "execution_count": 44,
   "id": "a1c3169a-6aa4-4d70-9515-5fa2f6b011f2",
   "metadata": {},
   "outputs": [
    {
     "name": "stdout",
     "output_type": "stream",
     "text": [
      "\n",
      "Sample Data Predictions:\n",
      "Data Point 1: Predicted: Iris-setosa, Actual: Iris-setosa\n",
      "Data Point 2: Predicted: Iris-setosa, Actual: Iris-setosa\n",
      "Data Point 3: Predicted: Iris-setosa, Actual: Iris-setosa\n",
      "Data Point 4: Predicted: Iris-setosa, Actual: Iris-setosa\n",
      "Data Point 5: Predicted: Iris-setosa, Actual: Iris-setosa\n"
     ]
    }
   ],
   "source": [
    "sample_indices = np.random.choice(len(X_test), 5, replace=False)\n",
    "sample_data = X_test[sample_indices]\n",
    "sample_labels = y_test.iloc[sample_indices]\n",
    "sample_predictions = knn.predict(sample_data)\n",
    "print(\"\\nSample Data Predictions:\")\n",
    "for i, (pred, true) in enumerate(zip(sample_predictions, sample_labels)):\n",
    "    print(f\"Data Point {i+1}: Predicted: {pred}, Actual: {true}\")\n",
    "\n"
   ]
  },
  {
   "cell_type": "markdown",
   "id": "6ff37256-c07a-4d28-8e3a-a20da3019f87",
   "metadata": {},
   "source": [
    "9) Compute and display performance metrics (such as accuracy, precision, \n",
    "recall, F1-score and confusion matrix)."
   ]
  },
  {
   "cell_type": "code",
   "execution_count": 46,
   "id": "9544cc54-b4fa-43e3-88bc-73daf948cd8a",
   "metadata": {},
   "outputs": [
    {
     "name": "stdout",
     "output_type": "stream",
     "text": [
      "\n",
      "Performance Metrics:\n",
      "Accuracy: 0.97\n",
      "Precision: 0.97\n",
      "Recall: 0.97\n",
      "F1-Score: 0.97\n",
      "\n",
      "Confusion Matrix:\n",
      "[[12  0  0]\n",
      " [ 0  8  0]\n",
      " [ 0  1  9]]\n",
      "\n",
      "Classification Report:\n",
      "                 precision    recall  f1-score   support\n",
      "\n",
      "    Iris-setosa       1.00      1.00      1.00        12\n",
      "Iris-versicolor       0.89      1.00      0.94         8\n",
      " Iris-virginica       1.00      0.90      0.95        10\n",
      "\n",
      "       accuracy                           0.97        30\n",
      "      macro avg       0.96      0.97      0.96        30\n",
      "   weighted avg       0.97      0.97      0.97        30\n",
      "\n"
     ]
    }
   ],
   "source": [
    "y_pred = knn.predict(X_test)\n",
    "accuracy = accuracy_score(y_test, y_pred)\n",
    "precision = precision_score(y_test, y_pred, average='weighted')\n",
    "recall = recall_score(y_test, y_pred, average='weighted')\n",
    "f1 = f1_score(y_test, y_pred, average='weighted')\n",
    "conf_matrix = confusion_matrix(y_test, y_pred)\n",
    "class_report = classification_report(y_test, y_pred)\n",
    "print(\"\\nPerformance Metrics:\")\n",
    "print(f\"Accuracy: {accuracy:.2f}\")\n",
    "print(f\"Precision: {precision:.2f}\")\n",
    "print(f\"Recall: {recall:.2f}\")\n",
    "print(f\"F1-Score: {f1:.2f}\")\n",
    "print(\"\\nConfusion Matrix:\")\n",
    "print(conf_matrix)\n",
    "print(\"\\nClassification Report:\")\n",
    "print(class_report)\n"
   ]
  },
  {
   "cell_type": "markdown",
   "id": "3aa1f627-37fa-4bc0-98e9-b66641ac8140",
   "metadata": {},
   "source": [
    "(10) Visualize the results (both actual and predicted values) and create visual \n",
    "summaries."
   ]
  },
  {
   "cell_type": "code",
   "execution_count": 47,
   "id": "a1c198d7-9ad2-4fdd-ba74-c592b0c85b78",
   "metadata": {},
   "outputs": [
    {
     "data": {
      "image/png": "[encoded data removed]",
      "text/plain": [
       "<Figure size 1000x600 with 2 Axes>"
      ]
     },
     "metadata": {},
     "output_type": "display_data"
    },
    {
     "data": {
      "image/png": "[encoded data removed]",
      "text/plain": [
       "<Figure size 1000x600 with 1 Axes>"
      ]
     },
     "metadata": {},
     "output_type": "display_data"
    }
   ],
   "source": [
    "plt.figure(figsize=(10, 6))\n",
    "sns.heatmap(conf_matrix, annot=True, fmt='d', cmap='Blues', xticklabels=knn.classes_, yticklabels=knn.classes_)\n",
    "plt.xlabel('Predicted Labels')\n",
    "plt.ylabel('True Labels')\n",
    "plt.title('Confusion Matrix')\n",
    "plt.show()\n",
    "\n",
    "# Compare actual vs predicted values\n",
    "comparison_df = pd.DataFrame({'Actual': y_test, 'Predicted': y_pred})\n",
    "plt.figure(figsize=(10, 6))\n",
    "sns.countplot(x='Actual', hue='Predicted', data=comparison_df)\n",
    "plt.title('Actual vs Predicted Values')\n",
    "plt.show()\n"
   ]
  },
  {
   "cell_type": "markdown",
   "id": "d36a4bdd-fb70-4c84-9790-c7a42da2f032",
   "metadata": {},
   "source": [
    "# Cell 15: Summary of findings and insights\n",
    "### Summary of Findings\n",
    "\n",
    "1. **Optimal K Selection**:\n",
    "   - The optimal value for K was determined using the elbow method, resulting in K = {}.\n",
    "   - This choice minimized the error rate, balancing bias and variance.\n",
    "\n",
    "2. **Model Performance**:\n",
    "   - The KNN model achieved an accuracy of {:.2f}.\n",
    "   - Precision, Recall, and F1-Score were also calculated, with values {:.2f}, {:.2f}, and {:.2f}, respectively.\n",
    "   - The confusion matrix showed that the model was effective at classifying the Iris species with minimal misclassification.\n",
    "\n",
    "3. **Visual Insights**:\n",
    "   - The heatmap of the confusion matrix highlighted the performance of the classifier across different classes.\n",
    "   - The comparison plot of actual vs predicted values showed a strong correlation, indicating the model's effectiveness.\n",
    "\n",
    "4. **Feature Standardization**:\n",
    "   - Standardizing the features contributed to the model’s performance by ensuring that each feature contributed equally to the distance calculations.\n",
    "\n",
    "### Conclusion\n",
    "\n",
    "The KNN model with K={} was effective for classifying the Iris dataset. The standardization of features and the careful selection of K played crucial roles in achieving a high-performing model.\n",
    "\"\"\"\n",
    "\n",
    "print(summary.format(optimal_k, accuracy, precision, recall, f1, optimal_k))"
   ]
  }
 ],
 "metadata": {
  "kernelspec": {
   "display_name": "Python 3 (ipykernel)",
   "language": "python",
   "name": "python3"
  },
  "language_info": {
   "codemirror_mode": {
    "name": "ipython",
    "version": 3
   },
   "file_extension": ".py",
   "mimetype": "text/x-python",
   "name": "python",
   "nbconvert_exporter": "python",
   "pygments_lexer": "ipython3",
   "version": "3.11.7"
  }
 },
 "nbformat": 4,
 "nbformat_minor": 5
}
